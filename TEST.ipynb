{
 "cells": [
  {
   "cell_type": "code",
   "execution_count": 63,
   "metadata": {},
   "outputs": [],
   "source": [
    "class SlotOfSpeech:\n",
    "    \n",
    "    # aan_identifier should be the string 'a' or 'an' to match the type itself for user display, \n",
    "    #     e.g. 'enter adjective' ---> 'enter an adjective'\n",
    "    # aan_place_flag defines whether the user input should be placed with a generated aan_identifier,\n",
    "    #     e.g. '{killer} rabit' ---> '{a killer} rabbit'  \n",
    "    # display_name can be the same between several slot types, they will act as one input group,\n",
    "    # summing their respective slot request counts for the user, while keeping their properties intact\n",
    "    def __init__(self, display_name, slot_id, request_count, aan_identifier, aan_place_flag):\n",
    "        self.display_name = display_name\n",
    "        self.request_count = request_count\n",
    "        self.aan_identifier = aan_identifier\n",
    "        user_input_list = []\n",
    "        "
   ]
  },
  {
   "cell_type": "code",
   "execution_count": 64,
   "metadata": {},
   "outputs": [],
   "source": [
    "class MadlibFile:\n",
    "    \n",
    "    # \"Self documenting\"\n",
    "    def __init__(self, storyText, slot_list):\n",
    "        \n",
    "        self.storyText = storyText\n",
    "        self.slot_list = slot_list\n",
    "    "
   ]
  },
  {
   "cell_type": "code",
   "execution_count": null,
   "metadata": {},
   "outputs": [],
   "source": [
    "def AskForInput:\n",
    "    \n",
    "    user_input\n",
    "    "
   ]
  },
  {
   "cell_type": "code",
   "execution_count": 66,
   "metadata": {},
   "outputs": [],
   "source": [
    "slot_list_test = []"
   ]
  },
  {
   "cell_type": "code",
   "execution_count": 67,
   "metadata": {},
   "outputs": [],
   "source": [
    "slot_list_test.append(SlotOfSpeech(\"type of animal\", \"#animal_1\", 4, 'a', True))\n",
    "slot_list_test.append(SlotOfSpeech(\"verb\", \"#verb_1\", 1, 'a', False))\n",
    "slot_list_test.append(SlotOfSpeech(\"adjective\", \"#adjective_1\", 2, 'an', True))\n",
    "slot_list_test.append(SlotOfSpeech(\"name of a place\", \"#place_name_1\", 1, 'a', False))\n",
    "slot_list_test.append(SlotOfSpeech(\"noun\", \"#noun_1\", 1, 'a', True))\n",
    "slot_list_test.append(SlotOfSpeech(\"name of a person\", \"#person_name_1\", 2, 'a', False))\n",
    "slot_list_test.append(SlotOfSpeech(\"verb ending in -ing\", \"#verb_2\", 1, 'a', False))"
   ]
  },
  {
   "cell_type": "code",
   "execution_count": 68,
   "metadata": {},
   "outputs": [],
   "source": [
    "test_story = \"There once was {#adjective_1} man, by the name of {#person_name_1}, who lived in {#place_name_1}.\\\n",
    "He was {#verb_2} in {#place_name_1}, when he spotted {#animal_1}\""
   ]
  },
  {
   "cell_type": "code",
   "execution_count": 69,
   "metadata": {},
   "outputs": [],
   "source": [
    "madlib_file_test = MadlibFile(test_story, slot_list_test)"
   ]
  },
  {
   "cell_type": "code",
   "execution_count": null,
   "metadata": {},
   "outputs": [],
   "source": []
  },
  {
   "cell_type": "code",
   "execution_count": null,
   "metadata": {},
   "outputs": [],
   "source": []
  },
  {
   "cell_type": "code",
   "execution_count": null,
   "metadata": {},
   "outputs": [],
   "source": []
  }
 ],
 "metadata": {
  "kernelspec": {
   "display_name": "Python 3",
   "language": "python",
   "name": "python3"
  },
  "language_info": {
   "codemirror_mode": {
    "name": "ipython",
    "version": 3
   },
   "file_extension": ".py",
   "mimetype": "text/x-python",
   "name": "python",
   "nbconvert_exporter": "python",
   "pygments_lexer": "ipython3",
   "version": "3.7.3"
  }
 },
 "nbformat": 4,
 "nbformat_minor": 2
}

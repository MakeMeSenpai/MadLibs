{
 "cells": [
  {
   "cell_type": "code",
   "execution_count": 171,
   "metadata": {},
   "outputs": [],
   "source": [
    "%config IPCompleter.greedy=True"
   ]
  },
  {
   "cell_type": "code",
   "execution_count": 172,
   "metadata": {},
   "outputs": [],
   "source": [
    "aan_mode: bool = False # Toggle aan_identifier generation //EXPERIMENTAL//\n",
    "rand_words: bool = False \n",
    "\n",
    "    \n",
    "# Pls no modify below #\n",
    "active_slot: SlotOfSpeech\n"
   ]
  },
  {
   "cell_type": "code",
   "execution_count": 173,
   "metadata": {},
   "outputs": [],
   "source": [
    "class SlotOfSpeech:\n",
    "    \n",
    "    # aan_identifier should be the string 'a' or 'an' to match the type itself for user display, \n",
    "    #     e.g. 'enter adjective' ---> 'enter an adjective'\n",
    "    # aan_place_flag defines whether the user input should be placed with a generated aan_identifier,\n",
    "    #     e.g. '{killer} rabit' ---> '{a killer} rabbit'  \n",
    "    # display_name can be the same between several slot types, they will act as one input group,\n",
    "    # summing their respective slot request counts for the user, while keeping their properties intact\n",
    "    \n",
    "    def __init__(self, display_name, slot_id, request_count, aan_identifier, aan_place_flag):\n",
    "        self.display_name = display_name\n",
    "        self.slot_id = slot_id\n",
    "        self.request_count = request_count\n",
    "        self.aan_identifier = aan_identifier\n",
    "        self.aan_place_flag = aan_place_flag\n",
    "        self.user_input_list = []\n",
    "        \n",
    "        "
   ]
  },
  {
   "cell_type": "code",
   "execution_count": 196,
   "metadata": {},
   "outputs": [],
   "source": [
    "class MadlibFile:\n",
    "    \n",
    "    # \"Self documenting\"\n",
    "    def __init__(self, story_text, slot_list):\n",
    "        \n",
    "        self.story_text = story_text\n",
    "        self.slot_list = slot_list\n",
    "    "
   ]
  },
  {
   "cell_type": "code",
   "execution_count": 226,
   "metadata": {},
   "outputs": [],
   "source": [
    "def help_and_welcome():\n",
    "    print(\"\\n\\n\")\n",
    "    print(\"Welcome to the MadLibs test program. Handle with care.\")\n",
    "    print(\"Press enter to continue\")\n",
    "    \n",
    "    user_input = ask_for_input()\n",
    "    \n",
    "    if user_input == \"analytics\":\n",
    "        dev_menu()\n",
    "    else:\n",
    "        menu()\n",
    "        "
   ]
  },
  {
   "cell_type": "code",
   "execution_count": 227,
   "metadata": {},
   "outputs": [],
   "source": [
    "def dev_menu():\n",
    "    return\n",
    "    "
   ]
  },
  {
   "cell_type": "code",
   "execution_count": 228,
   "metadata": {},
   "outputs": [],
   "source": [
    "def menu():\n",
    "    \n",
    "    print(\"\\n\\n\")\n",
    "    print('Welcome to the menu. No meat.')\n",
    "    print('p = play, o = options, q = quit')\n",
    "    \n",
    "    user_input = ask_for_input()\n",
    "    \n",
    "    if user_input == 'o':\n",
    "        options_selector()\n",
    "    elif user_input == 'p':\n",
    "        play_menu()\n",
    "    elif user_input == 'q':\n",
    "        print('goo')\n",
    "        return\n",
    "    else:\n",
    "        print('Something went wrong, please try again.')\n",
    "        menu()\n",
    "    \n",
    "    "
   ]
  },
  {
   "cell_type": "code",
   "execution_count": 229,
   "metadata": {},
   "outputs": [],
   "source": [
    "def play_menu():\n",
    "    print('\\n\\n')\n",
    "    print('Select a story: ')\n",
    "    print('(1) test_map')\n",
    "    \n",
    "    \n",
    "    return"
   ]
  },
  {
   "cell_type": "code",
   "execution_count": 230,
   "metadata": {},
   "outputs": [],
   "source": [
    "def options_selector():\n",
    "    return"
   ]
  },
  {
   "cell_type": "code",
   "execution_count": 231,
   "metadata": {},
   "outputs": [],
   "source": [
    "def ask_for_input():\n",
    "    \n",
    "    user_input: str = input()\n",
    "    user_input = user_input.strip()\n",
    "    user_input = user_input.lower()\n",
    "    \n",
    "    return user_input\n",
    "    "
   ]
  },
  {
   "cell_type": "code",
   "execution_count": 232,
   "metadata": {},
   "outputs": [],
   "source": [
    "def story_input_loops(mad_file_slots):\n",
    "    \n",
    "    fresh_slot_flag: bool = False\n",
    "    slot_name_holder = ''\n",
    "    \n",
    "    for slot_desc in mad_file_slots:\n",
    "        \n",
    "        i = 0\n",
    "        while i < slot_desc.request_count:                \n",
    "\n",
    "            if slot_name_holder != slot_desc.display_name:\n",
    "                \n",
    "                print ('Please enter ' + slot_desc.aan_identifier + ' ' + slot_desc.display_name)\n",
    "                slot_name_holder = slot_desc.display_name\n",
    "                \n",
    "            else:\n",
    "                print ('Please enter another ' + slot_desc.display_name)\n",
    "                \n",
    "            user_input = ask_for_input()\n",
    "            \n",
    "            if slot_desc.aan_place_flag:\n",
    "                \n",
    "                if aan_mode:\n",
    "                    # run aan-generator and add in front of user_input\n",
    "                    return\n",
    "                    \n",
    "                else:\n",
    "                    user_input = 'a(n) ' + user_input \n",
    "                    \n",
    "            slot_desc.user_input_list.append(user_input)\n",
    "            i += 1\n",
    "    "
   ]
  },
  {
   "cell_type": "code",
   "execution_count": 233,
   "metadata": {},
   "outputs": [],
   "source": [
    "def word_eater(mad_file):\n",
    "    \n",
    "    for slot_desc in mad_file.slot_list:\n",
    "        \n",
    "        for word in slot_desc.user_input_list:\n",
    "        \n",
    "            mad_file.story_text = mad_file.story_text.replace(slot_desc.slot_id, word, 1)"
   ]
  },
  {
   "cell_type": "code",
   "execution_count": 234,
   "metadata": {},
   "outputs": [],
   "source": [
    "slot_list_test = []"
   ]
  },
  {
   "cell_type": "code",
   "execution_count": 235,
   "metadata": {},
   "outputs": [],
   "source": [
    "slot_list_test.append(SlotOfSpeech(\"type of animal\", \"#animal_1\", 4, 'a', True))\n",
    "slot_list_test.append(SlotOfSpeech(\"verb\", \"#verb_1\", 1, 'a', False))\n",
    "slot_list_test.append(SlotOfSpeech(\"adjective\", \"#adjective_1\", 2, 'an', True))\n",
    "slot_list_test.append(SlotOfSpeech(\"name of a place\", \"#place_name_1\", 2, 'the', False))\n",
    "slot_list_test.append(SlotOfSpeech(\"noun\", \"#noun_1\", 1, 'a', True))\n",
    "slot_list_test.append(SlotOfSpeech(\"name of a person\", \"#person_name_1\", 2, 'a', False))\n",
    "slot_list_test.append(SlotOfSpeech(\"verb ending in -ing\", \"#verb_2\", 1, 'a', False))"
   ]
  },
  {
   "cell_type": "code",
   "execution_count": 236,
   "metadata": {},
   "outputs": [],
   "source": [
    "test_story = \"There once was {#adjective_1} man, by the name of {#person_name_1}, who lived in {#place_name_1}.\\\n",
    "He was {#verb_2} in {#place_name_1}, when he spotted {#animal_1}\""
   ]
  },
  {
   "cell_type": "code",
   "execution_count": 237,
   "metadata": {},
   "outputs": [],
   "source": [
    "madlib_file_test = MadlibFile(test_story, slot_list_test) "
   ]
  },
  {
   "cell_type": "code",
   "execution_count": 238,
   "metadata": {},
   "outputs": [
    {
     "name": "stdout",
     "output_type": "stream",
     "text": [
      "Please enter a type of animal\n",
      "\n",
      "Please enter another type of animal\n",
      "sada\n",
      "Please enter another type of animal\n",
      "sd\n",
      "Please enter another type of animal\n",
      "asd\n",
      "Please enter a verb\n",
      "sad\n",
      "Please enter an adjective\n",
      "sa\n",
      "Please enter another adjective\n",
      "\n",
      "Please enter the name of a place\n",
      "\n",
      "Please enter another name of a place\n",
      "dsa\n",
      "Please enter a noun\n",
      "dsa\n",
      "Please enter a name of a person\n",
      "sad\n",
      "Please enter another name of a person\n",
      "\n",
      "Please enter a verb ending in -ing\n",
      "dsa\n"
     ]
    }
   ],
   "source": [
    "story_input_loops(madlib_file_test.slot_list)\n"
   ]
  },
  {
   "cell_type": "code",
   "execution_count": null,
   "metadata": {},
   "outputs": [],
   "source": [
    "\n"
   ]
  },
  {
   "cell_type": "code",
   "execution_count": 239,
   "metadata": {},
   "outputs": [],
   "source": [
    "word_eater(madlib_file_test)"
   ]
  },
  {
   "cell_type": "code",
   "execution_count": 240,
   "metadata": {},
   "outputs": [
    {
     "data": {
      "text/plain": [
       "'There once was {a(n) sa} man, by the name of {sad}, who lived in {}.He was {dsa} in {dsa}, when he spotted {a(n) }'"
      ]
     },
     "execution_count": 240,
     "metadata": {},
     "output_type": "execute_result"
    }
   ],
   "source": [
    "madlib_file_test.story_text\n"
   ]
  },
  {
   "cell_type": "code",
   "execution_count": null,
   "metadata": {},
   "outputs": [],
   "source": []
  },
  {
   "cell_type": "code",
   "execution_count": null,
   "metadata": {},
   "outputs": [],
   "source": []
  }
 ],
 "metadata": {
  "kernelspec": {
   "display_name": "Python 3",
   "language": "python",
   "name": "python3"
  },
  "language_info": {
   "codemirror_mode": {
    "name": "ipython",
    "version": 3
   },
   "file_extension": ".py",
   "mimetype": "text/x-python",
   "name": "python",
   "nbconvert_exporter": "python",
   "pygments_lexer": "ipython3",
   "version": "3.7.3"
  }
 },
 "nbformat": 4,
 "nbformat_minor": 2
}
